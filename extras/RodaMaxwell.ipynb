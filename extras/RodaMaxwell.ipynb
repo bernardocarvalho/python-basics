{
 "cells": [
  {
   "cell_type": "markdown",
   "id": "a4e1beba",
   "metadata": {},
   "source": [
    "## Momento Inercia Roda de Maxwell\n",
    " $ I_M= \\frac{1}{2} M (R_1^2 + R_2^2)$\n"
   ]
  },
  {
   "cell_type": "code",
   "execution_count": 38,
   "id": "682f8ca8",
   "metadata": {},
   "outputs": [
    {
     "name": "stdout",
     "output_type": "stream",
     "text": [
      "Im= 0.00138866 Kg m^2\n"
     ]
    }
   ],
   "source": [
    "M=0.436\n",
    "R1=0.049; R2=0.063\n",
    "Im=1/2*M*(R1**2 + R2**2)\n",
    "print(\"Im= %g Kg m^2\"%Im)"
   ]
  },
  {
   "cell_type": "markdown",
   "id": "95edc2c1",
   "metadata": {},
   "source": [
    "## Momento I Roda de Maxwell \n",
    " $ A= \\frac{1}{2} \\frac{mg}{ m + I_r/r^2 }$   \n",
    " $ 2 A ( m + I_r/r^2) = mg $  \n",
    " $2 A  I_r/r^2 = mg  - 2 A  m $  \n",
    " $ I_r/r^2 = \\frac{mg  - 2 A m}{2A} $    \n",
    "  $ I_r = r^2 \\frac{mg  - 2 A m}{2A} $ "
   ]
  },
  {
   "cell_type": "code",
   "execution_count": 39,
   "id": "8bf4dcbc",
   "metadata": {},
   "outputs": [
    {
     "name": "stdout",
     "output_type": "stream",
     "text": [
      "Ir= 0.00121114 Kg m^2\n"
     ]
    }
   ],
   "source": [
    "#m=0.436\n",
    "a=0.011\n",
    "r=0.0025\n",
    "g=9.8\n",
    "#a =0.0109\n",
    "Ir=r**2*(M*g/2 - a*M)/a\n",
    "#Ir=r**2*m*(g/2/a - 1)\n",
    "print(\"Ir= %g Kg m^2\" %Ir)"
   ]
  },
  {
   "cell_type": "code",
   "execution_count": 40,
   "id": "55aad430",
   "metadata": {},
   "outputs": [],
   "source": [
    "from ipywidgets import interact, interactive, fixed, interact_manual\n",
    "import ipywidgets as widgets\n",
    "import numpy as np\n",
    "import matplotlib.pyplot as plt\n",
    "%matplotlib inline"
   ]
  },
  {
   "cell_type": "code",
   "execution_count": 41,
   "id": "8d8ec0bd-13de-410f-b1ee-d286a6608549",
   "metadata": {},
   "outputs": [
    {
     "data": {
      "text/plain": [
       "array([0.3968254 , 0.3968254 , 0.40322581, 0.35714286, 0.30487805,\n",
       "       0.29761905, 0.26595745, 0.23364486, 0.22123894, 0.18656716])"
      ]
     },
     "execution_count": 41,
     "metadata": {},
     "output_type": "execute_result"
    }
   ],
   "source": [
    "texp = np.array([7.02,    6.88,  6.57, 6.23,  5.92, 5.59,   5.25, 4.72, 4.24, 3.81])\n",
    "Dtexp = np.array([0.063, 0.063, 0.062, 0.07, 0.082, 0.084, 0.094, 0.107, 0.113, 0.134])\n",
    "\n",
    "sexp = np.array([0.60,   0.57,  0.52,  0.47,  0.42,  0.37,  0.32,  0.27, 0.22, 0.17])\n",
    "Vexp=0.025/Dtexp\n",
    "Vexp"
   ]
  },
  {
   "cell_type": "code",
   "execution_count": 43,
   "id": "9208164a-fefc-4076-8a1b-6984bc9ca8d5",
   "metadata": {},
   "outputs": [
    {
     "data": {
      "application/vnd.jupyter.widget-view+json": {
       "model_id": "78cf129368c54243a4d0b952cbb3bc54",
       "version_major": 2,
       "version_minor": 0
      },
      "text/plain": [
       "interactive(children=(FloatSlider(value=0.0125, description='A', max=0.015, min=0.01, step=0.0001), FloatSlide…"
      ]
     },
     "metadata": {},
     "output_type": "display_data"
    }
   ],
   "source": [
    "x = np.linspace(0, 7)\n",
    "#A=0.1\n",
    "#B=2.1\n",
    "C=0\n",
    "def model(x,a,b, c):\n",
    "    return a * x**b +c\n",
    "def chi2(x, a, b, c, ym):\n",
    "    return np.sum((model(x, a, b, c) - ym)**2)\n",
    "\n",
    "def plot_func(A,B,C):\n",
    "    y = model(x, A, B, C) \n",
    "    plt.plot(x, y)\n",
    "    plt.plot(texp, sexp, '*')\n",
    "    print(\"Chi2 = %g \" %chi2(texp, A, B, C, sexp))\n",
    "\n",
    "interactive(plot_func, A=(0.01, 0.015, 0.0001), B=(1.0,2.5, 0.01), C=(-0.1,0.1, 0.001))"
   ]
  },
  {
   "cell_type": "code",
   "execution_count": 30,
   "id": "60621541-d4db-4a89-bdea-5804ccb229dd",
   "metadata": {},
   "outputs": [],
   "source": [
    "from scipy.optimize import curve_fit\n",
    "guess = [0.001, 2.0, 0.1]\n",
    "popt, pcov = curve_fit(model, texp, sexp, p0=guess)"
   ]
  },
  {
   "cell_type": "code",
   "execution_count": 31,
   "id": "5ac27d77-baeb-427e-90e9-1a9ac9f861ef",
   "metadata": {},
   "outputs": [
    {
     "name": "stdout",
     "output_type": "stream",
     "text": [
      "A: 0.00793412, B=2.1961, C=0.0249636\n",
      "Iexp= 0.0016802 Kg m^2\n"
     ]
    }
   ],
   "source": [
    "#The optimised parameters of the fit\n",
    "print(\"A: %g, B=%g, C=%g\" %(popt[0], popt[1],  popt[2]))\n",
    "Iexp=r**2*(M*g/2 - popt[0]*M)/popt[0]\n",
    "#Ir=r**2*m*(g/2/a - 1)\n",
    "print(\"Iexp= %g Kg m^2\" %Iexp)"
   ]
  },
  {
   "cell_type": "code",
   "execution_count": 37,
   "id": "d348cad5-7cb7-4288-95d9-82191a936f85",
   "metadata": {},
   "outputs": [
    {
     "data": {
      "application/vnd.jupyter.widget-view+json": {
       "model_id": "7bbe74f2e7bb4b6ea608a4e4d283ee30",
       "version_major": 2,
       "version_minor": 0
      },
      "text/plain": [
       "interactive(children=(FloatSlider(value=0.025, description='A', max=0.04, min=0.01, step=0.0001), FloatSlider(…"
      ]
     },
     "metadata": {},
     "output_type": "display_data"
    }
   ],
   "source": [
    "C=0\n",
    "def modelV(x,a, c):\n",
    "    return a * x +c\n",
    "def chi2(x, a, c, ym):\n",
    "    return np.sum((modelV(x, a, c) - ym)**2)\n",
    "\n",
    "def plot_funcV(A,C):\n",
    "    y = modelV(x, A, C) \n",
    "    plt.plot(x, y)\n",
    "    plt.plot(texp, Vexp, '*')\n",
    "    print(\"Chi2 = %g \" %chi2(texp, A, C, Vexp))\n",
    "\n",
    "interactive(plot_funcV, A=(0.01, 0.04, 0.0001), C=(0.0,0.1, 0.01),)"
   ]
  },
  {
   "cell_type": "code",
   "execution_count": null,
   "id": "7553707e-1881-49f7-a672-df45e8c247ad",
   "metadata": {},
   "outputs": [],
   "source": []
  }
 ],
 "metadata": {
  "kernelspec": {
   "display_name": "Python 3 (ipykernel)",
   "language": "python",
   "name": "python3"
  },
  "language_info": {
   "codemirror_mode": {
    "name": "ipython",
    "version": 3
   },
   "file_extension": ".py",
   "mimetype": "text/x-python",
   "name": "python",
   "nbconvert_exporter": "python",
   "pygments_lexer": "ipython3",
   "version": "3.9.12"
  }
 },
 "nbformat": 4,
 "nbformat_minor": 5
}
