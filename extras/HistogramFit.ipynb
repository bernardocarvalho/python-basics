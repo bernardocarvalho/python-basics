{
 "cells": [
  {
   "cell_type": "code",
   "execution_count": 1,
   "id": "0e874521-f0f2-4f3c-881a-4ccf55dac471",
   "metadata": {},
   "outputs": [],
   "source": [
    "%matplotlib inline\n",
    "# Sistema Massa-mola"
   ]
  },
  {
   "cell_type": "code",
   "execution_count": 2,
   "id": "8282d069-fb92-4413-9e2f-c4668be6a971",
   "metadata": {},
   "outputs": [],
   "source": [
    "import numpy as np\n",
    "#import scipy\n",
    "from scipy.stats import norm\n",
    "import matplotlib\n",
    "import matplotlib.pyplot as plt"
   ]
  },
  {
   "cell_type": "markdown",
   "id": "9b1d6e67-cf56-4594-895c-7ea569f1c74c",
   "metadata": {},
   "source": [
    "## Gaussian Fit"
   ]
  },
  {
   "cell_type": "code",
   "execution_count": 3,
   "id": "a312c9c5-9915-45f0-b3c4-e2cdf8d42c73",
   "metadata": {},
   "outputs": [],
   "source": [
    "data=np.loadtxt('files/periodo.csv', delimiter=',', skiprows=1)\n",
    "pexp=data[:,0]\n",
    "hexp=data[:,1]/np.sum(data[:,1]) # dados normalizados\n",
    "Npontos=100"
   ]
  },
  {
   "cell_type": "code",
   "execution_count": 4,
   "id": "bd46c130",
   "metadata": {},
   "outputs": [],
   "source": [
    "p = np.linspace(pexp[0], pexp[-1], num=Npontos) # np.arange(pexp[0], 3.403, 0.0001)"
   ]
  },
  {
   "cell_type": "code",
   "execution_count": 5,
   "id": "8088e436",
   "metadata": {},
   "outputs": [],
   "source": [
    "def Dn(x,a,b,c):\n",
    "    return a*c*np.sqrt(2*np.pi)*norm.pdf(x,b,c)      # The size or shape of your array. PDF(X,location,divide scaling)\n",
    "#    return a/c/np.sqrt(2*np.pi)*norm.pdf(x,b,c)      # The size or shape of your array\n",
    "\n",
    "q=Dn(p,35, 3.41, 0.001)"
   ]
  },
  {
   "cell_type": "markdown",
   "id": "47c03697-35aa-4708-b59c-d654b78be2cc",
   "metadata": {},
   "source": [
    "### Manual Fit"
   ]
  },
  {
   "cell_type": "code",
   "execution_count": 7,
   "id": "bbbb2e9f-7549-4521-96a7-f8991ba05b0f",
   "metadata": {},
   "outputs": [
    {
     "data": {
      "image/png": "[encoded data removed]",
      "text/plain": [
       "<Figure size 432x288 with 1 Axes>"
      ]
     },
     "metadata": {
      "needs_background": "light"
     },
     "output_type": "display_data"
    }
   ],
   "source": [
    "amp=0.25\n",
    "mn=3.40225\n",
    "sg=0.0001\n",
    "plt.plot(pexp, hexp, 'o', label='Exp')\n",
    "plt.plot(p, Dn(p,amp,mn,sg), label='Fit')\n",
    "#plt.plot(p, Dn(p,35, 3.041, 0.001), label='Fit')\n",
    "plt.legend()\n",
    "plt.show()"
   ]
  },
  {
   "cell_type": "markdown",
   "id": "bea7a002",
   "metadata": {},
   "source": [
    "# Fit automático\n",
    "$FWHM = 2 \\sqrt{2 \\ln(2)}\\,\\, \\sigma$"
   ]
  },
  {
   "cell_type": "code",
   "execution_count": 8,
   "id": "fb50210b-f715-452d-8ee5-278030dd5e8c",
   "metadata": {},
   "outputs": [
    {
     "name": "stdout",
     "output_type": "stream",
     "text": [
      "popt: amp=0.231702, mean=3.40226, std=6.51135e-05\n",
      "Erro dos parametros (perr): [2.03030476e-02 6.58990543e-06 6.58983979e-06]\n",
      "FWHM= 0.000153331 s\n"
     ]
    }
   ],
   "source": [
    "from scipy.optimize import curve_fit\n",
    "#       amp, mean, sigma\n",
    "guess = [0.25, 3.4022, 0.0002]\n",
    "\n",
    "popt, pcov = curve_fit(Dn, pexp, hexp, p0=guess)\n",
    "#The optimised parameters of the fit\n",
    "print(\"popt: amp=%g, mean=%g, std=%g\" %(popt[0], popt[1], popt[2]))\n",
    "#One standard deviation errors on the parameters.\n",
    "perr = np.sqrt(np.diag(pcov))\n",
    "print(\"Erro dos parametros (perr):\", perr)\n",
    "# The covariance matrix of the parameters\n",
    "# print(\"pcov:\", pcov)\n",
    "print(\"FWHM= %g s\" %(2*np.sqrt(2*np.log(2))*popt[2]))"
   ]
  },
  {
   "cell_type": "code",
   "execution_count": 9,
   "id": "2ca5d495",
   "metadata": {},
   "outputs": [],
   "source": [
    "# Grafico Ajuste"
   ]
  },
  {
   "cell_type": "code",
   "execution_count": 10,
   "id": "f3f06240",
   "metadata": {},
   "outputs": [
    {
     "data": {
      "image/png": "[encoded data removed]",
      "text/plain": [
       "<Figure size 432x288 with 1 Axes>"
      ]
     },
     "metadata": {
      "needs_background": "light"
     },
     "output_type": "display_data"
    }
   ],
   "source": [
    "plt.plot(pexp, hexp, 'o', label='Exp')\n",
    "plt.plot(p, Dn(p,*popt), label='Fit')\n",
    "plt.legend()\n",
    "plt.show()"
   ]
  },
  {
   "cell_type": "code",
   "execution_count": null,
   "id": "238f4943-6332-4dc4-8449-f865a95f0f44",
   "metadata": {},
   "outputs": [],
   "source": [
    "x"
   ]
  }
 ],
 "metadata": {
  "kernelspec": {
   "display_name": "Python 3 (ipykernel)",
   "language": "python",
   "name": "python3"
  },
  "language_info": {
   "codemirror_mode": {
    "name": "ipython",
    "version": 3
   },
   "file_extension": ".py",
   "mimetype": "text/x-python",
   "name": "python",
   "nbconvert_exporter": "python",
   "pygments_lexer": "ipython3",
   "version": "3.9.2"
  }
 },
 "nbformat": 4,
 "nbformat_minor": 5
}
