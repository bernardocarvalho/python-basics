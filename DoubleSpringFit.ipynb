{
 "cells": [
  {
   "cell_type": "markdown",
   "id": "3013c984",
   "metadata": {},
   "source": [
    "## Hook's law"
   ]
  },
  {
   "cell_type": "code",
   "execution_count": null,
   "id": "f0c9e9e1",
   "metadata": {},
   "outputs": [],
   "source": [
    "import numpy as np\n",
    "import matplotlib.pyplot as plt\n",
    "import pandas as pd\n",
    "from scipy.optimize import curve_fit"
   ]
  },
  {
   "cell_type": "code",
   "execution_count": null,
   "id": "8b65df5f",
   "metadata": {},
   "outputs": [],
   "source": [
    "#%matplotlib notebook\n",
    "%matplotlib inline"
   ]
  },
  {
   "cell_type": "code",
   "execution_count": null,
   "id": "dd288d8d",
   "metadata": {},
   "outputs": [],
   "source": [
    "filename = 'files/dados_start.csv'\n",
    "#data = pd.read_csv(filename, encoding='ISO-8859–1')\n",
    "data = pd.read_csv(filename, sep=';')"
   ]
  },
  {
   "cell_type": "code",
   "execution_count": null,
   "id": "34df839f",
   "metadata": {},
   "outputs": [],
   "source": [
    "#X exp. values\n",
    "disp = data['Displ(um)'].values\n",
    "#Y exp. values\n",
    "force = data['Force(mN)'].values"
   ]
  },
  {
   "cell_type": "markdown",
   "id": "6f71524c",
   "metadata": {},
   "source": [
    "### Simple Linear Fitting "
   ]
  },
  {
   "cell_type": "code",
   "execution_count": null,
   "id": "ecdafa95",
   "metadata": {},
   "outputs": [],
   "source": [
    "# Linear Fit Function\n",
    "# https://stackoverflow.com/questions/29382903/how-to-apply-piecewise-linear-fit-in-python\n",
    "def fLinear(dsp, m, b):\n",
    "    fit_Force = m * dsp + b\n",
    "    return fit_Force"
   ]
  },
  {
   "cell_type": "code",
   "execution_count": null,
   "id": "8cc12dd2",
   "metadata": {},
   "outputs": [],
   "source": [
    "popt, pcov = curve_fit(fLinear, disp, force)\n",
    "perr = np.sqrt(np.diag(pcov))\n",
    "fitted_force = fLinear(disp, *popt)\n",
    "rmse = np.sqrt(\n",
    "    np.sum((force - fitted_force) ** 2) )\n",
    "print(\"M: %g \" %(popt[0]))\n",
    "print(\"B: %g s\" %(popt[1]))"
   ]
  },
  {
   "cell_type": "code",
   "execution_count": null,
   "id": "53f339bb",
   "metadata": {},
   "outputs": [],
   "source": [
    "plt.figure()\n",
    "plt.plot(disp, force, '.', label='dados_start')\n",
    "plt.plot(disp, fitted_force, label='fit:')\n",
    "#plt.plot(x, y2, '.', label='$\\sin^{2}$')\n",
    "#plt.plot(x, y3, linewidth=3)\n",
    "#plt.annotate('example text', xy=(0.5, -0.75))\n",
    "plt.xlabel(\"Displacement(um)\")\n",
    "plt.ylabel(\"Force(mN)\")\n",
    "plt.title(\"Hook's law - constant determination of a spring\")\n",
    "plt.legend()\n",
    "plt.show()"
   ]
  },
  {
   "cell_type": "markdown",
   "id": "36ee70a0",
   "metadata": {},
   "source": [
    "### Piecewise Linear Fitting "
   ]
  },
  {
   "cell_type": "code",
   "execution_count": null,
   "id": "14ffec74",
   "metadata": {},
   "outputs": [],
   "source": [
    "# Fit Function\n",
    "# https://stackoverflow.com/questions/29382903/how-to-apply-piecewise-linear-fit-in-python\n",
    "def piecewise_linear(x, x0, y0, k1, k2):\n",
    "    return np.piecewise(x, [x < x0], [lambda x:k1*x + y0-k1*x0, lambda x:k2*x + y0-k2*x0])"
   ]
  },
  {
   "cell_type": "code",
   "execution_count": null,
   "id": "dc456a95",
   "metadata": {},
   "outputs": [],
   "source": [
    "popt, pcov = curve_fit(piecewise_linear, disp, force)\n",
    "perr = np.sqrt(np.diag(pcov))\n",
    "fitted_force = piecewise_linear(disp, *popt)\n",
    "rmse = np.sqrt(np.sum((force - fitted_force) ** 2) )\n",
    "print(\"x0: %g, y0: %g \" %(popt[0],popt[1]))\n",
    "#print(\"B: %g s\" %(popt[1]))"
   ]
  },
  {
   "cell_type": "code",
   "execution_count": null,
   "id": "3cc19725",
   "metadata": {},
   "outputs": [],
   "source": [
    "# Plot chosen data and fit results\n",
    "#pnames = ['Isat', 'Vf', 'Te']\n",
    "#punits = ['mA', 'V', 'eV']\n",
    "fig2, ax2 = plt.subplots(1)\n",
    "ax2.plot(disp, force, '.', label='data')\n",
    "ax2.plot(disp, fitted_force, label='fit:')\n",
    "ax2.legend()\n",
    "ax2.set_xlabel('Displacement/  um')\n",
    "ax2.set_ylabel('Force(mN)')\n",
    "plt.show(block=True)"
   ]
  },
  {
   "cell_type": "code",
   "execution_count": null,
   "id": "23192319-47a6-4842-8a15-a821f463c037",
   "metadata": {},
   "outputs": [],
   "source": []
  }
 ],
 "metadata": {
  "kernelspec": {
   "display_name": "Python 3 (ipykernel)",
   "language": "python",
   "name": "python3"
  },
  "language_info": {
   "codemirror_mode": {
    "name": "ipython",
    "version": 3
   },
   "file_extension": ".py",
   "mimetype": "text/x-python",
   "name": "python",
   "nbconvert_exporter": "python",
   "pygments_lexer": "ipython3",
   "version": "3.12.5"
  }
 },
 "nbformat": 4,
 "nbformat_minor": 5
}
