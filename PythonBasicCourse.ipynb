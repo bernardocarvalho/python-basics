{
 "cells": [
  {
   "cell_type": "markdown",
   "metadata": {},
   "source": [
    "# BASIC PYTHON COMMANDS"
   ]
  },
  {
   "cell_type": "markdown",
   "metadata": {},
   "source": [
    "### Yes...why not a Hello World..."
   ]
  },
  {
   "cell_type": "code",
   "execution_count": null,
   "metadata": {
    "tags": []
   },
   "outputs": [],
   "source": [
    "print(\"Hello World\")"
   ]
  },
  {
   "cell_type": "code",
   "execution_count": null,
   "metadata": {
    "tags": []
   },
   "outputs": [],
   "source": [
    "a=5 #This is how you introduce a oneliner comment !!!\n",
    "b=2"
   ]
  },
  {
   "cell_type": "markdown",
   "metadata": {},
   "source": [
    "### Basic arithmetic operations are available"
   ]
  },
  {
   "cell_type": "code",
   "execution_count": null,
   "metadata": {
    "tags": []
   },
   "outputs": [],
   "source": [
    "a**b"
   ]
  },
  {
   "cell_type": "code",
   "execution_count": null,
   "metadata": {
    "tags": []
   },
   "outputs": [],
   "source": [
    "a//b"
   ]
  },
  {
   "cell_type": "code",
   "execution_count": null,
   "metadata": {
    "tags": []
   },
   "outputs": [],
   "source": [
    "a/float(b)"
   ]
  },
  {
   "cell_type": "code",
   "execution_count": null,
   "metadata": {
    "tags": []
   },
   "outputs": [],
   "source": [
    "a%b"
   ]
  },
  {
   "cell_type": "code",
   "execution_count": null,
   "metadata": {
    "tags": []
   },
   "outputs": [],
   "source": [
    "min(a,b)"
   ]
  },
  {
   "cell_type": "code",
   "execution_count": null,
   "metadata": {
    "tags": []
   },
   "outputs": [],
   "source": [
    "a += 3 #same as a=a+3 basically, we can use also -, * and / operators\n",
    "a"
   ]
  },
  {
   "cell_type": "code",
   "execution_count": null,
   "metadata": {
    "tags": []
   },
   "outputs": [],
   "source": [
    "c=a\n",
    "c=c+10\n",
    "a #will \"a\" change because i changed \"c\" which was set to be \"the same\" as \"a\" ?"
   ]
  },
  {
   "cell_type": "markdown",
   "metadata": {},
   "source": [
    "### Logical operators also exist..."
   ]
  },
  {
   "cell_type": "code",
   "execution_count": null,
   "metadata": {
    "tags": []
   },
   "outputs": [],
   "source": [
    "a != b"
   ]
  },
  {
   "cell_type": "markdown",
   "metadata": {},
   "source": [
    "### User defined lists and methods to handle them "
   ]
  },
  {
   "cell_type": "code",
   "execution_count": null,
   "metadata": {
    "tags": []
   },
   "outputs": [],
   "source": [
    "a = [1, \"hello\", 5.5] #This is a list..."
   ]
  },
  {
   "cell_type": "code",
   "execution_count": null,
   "metadata": {
    "tags": []
   },
   "outputs": [],
   "source": [
    "a"
   ]
  },
  {
   "cell_type": "code",
   "execution_count": null,
   "metadata": {
    "tags": []
   },
   "outputs": [],
   "source": [
    "len(a)"
   ]
  },
  {
   "cell_type": "code",
   "execution_count": null,
   "metadata": {
    "tags": []
   },
   "outputs": [],
   "source": [
    "a[0] # get me the first element index is 0 "
   ]
  },
  {
   "cell_type": "code",
   "execution_count": null,
   "metadata": {
    "tags": []
   },
   "outputs": [],
   "source": [
    "a.append(\"how are you?\")  #see that a list is \"mutable...you can change it\"\n",
    "a"
   ]
  },
  {
   "cell_type": "code",
   "execution_count": null,
   "metadata": {
    "tags": []
   },
   "outputs": [],
   "source": [
    "a.pop(1)"
   ]
  },
  {
   "cell_type": "code",
   "execution_count": null,
   "metadata": {
    "tags": []
   },
   "outputs": [],
   "source": [
    "a"
   ]
  },
  {
   "cell_type": "code",
   "execution_count": null,
   "metadata": {
    "tags": []
   },
   "outputs": [],
   "source": [
    "for x in a:\n",
    "    print(x)\n",
    "    print(a)"
   ]
  },
  {
   "cell_type": "markdown",
   "metadata": {},
   "source": [
    "### A word of caution when using lists..."
   ]
  },
  {
   "cell_type": "code",
   "execution_count": null,
   "metadata": {
    "tags": []
   },
   "outputs": [],
   "source": [
    "print(\"list a=\",a)\n",
    "b=a\n",
    "b[1]=666\n",
    "print(\"list a=\",a) #Oh my..."
   ]
  },
  {
   "cell_type": "code",
   "execution_count": null,
   "metadata": {
    "tags": []
   },
   "outputs": [],
   "source": [
    "#There is a handy module to avoid such messy outcome...\n",
    "import copy\n",
    "a=[1, 5.5, 'how are you?']\n",
    "print(\"list a=\",a)\n",
    "b=copy.deepcopy(a)\n",
    "b[1]=666\n",
    "print(\"list a=\",a) #sweet...\n",
    "print(\"list b=\",b)"
   ]
  },
  {
   "cell_type": "markdown",
   "metadata": {},
   "source": [
    "### Enumerators in loops are pretty handy"
   ]
  },
  {
   "cell_type": "code",
   "execution_count": null,
   "metadata": {
    "tags": []
   },
   "outputs": [],
   "source": [
    "for i,x in enumerate(a):\n",
    "    print(\"element {}: {}\".format(i, x))  #this is one way to print formatted output"
   ]
  },
  {
   "cell_type": "code",
   "execution_count": null,
   "metadata": {
    "tags": []
   },
   "outputs": [],
   "source": [
    "a[0] = 10  #No problem in changing this entry of the list...\n",
    "a"
   ]
  },
  {
   "cell_type": "markdown",
   "metadata": {},
   "source": [
    "### Now let's use an \"imutable\" list : tuples"
   ]
  },
  {
   "cell_type": "code",
   "execution_count": null,
   "metadata": {
    "tags": []
   },
   "outputs": [],
   "source": [
    "b = (-1, \"ola\", 2.5) # Python Tuple "
   ]
  },
  {
   "cell_type": "code",
   "execution_count": null,
   "metadata": {
    "tags": []
   },
   "outputs": [],
   "source": [
    "b[0] #no problem accessing it..."
   ]
  },
  {
   "cell_type": "code",
   "execution_count": null,
   "metadata": {
    "tags": []
   },
   "outputs": [],
   "source": [
    "b[1] = \"Goodbye\" #can i change it ?!"
   ]
  },
  {
   "cell_type": "code",
   "execution_count": null,
   "metadata": {
    "tags": []
   },
   "outputs": [],
   "source": [
    "x,y,z = b #x,y,z get a copy of the several tuple content...nice...\n",
    "z"
   ]
  },
  {
   "cell_type": "code",
   "execution_count": null,
   "metadata": {
    "tags": []
   },
   "outputs": [],
   "source": [
    "z=16 #if i change the z (3rd item in the tuple)....\n",
    "b"
   ]
  },
  {
   "cell_type": "markdown",
   "metadata": {},
   "source": [
    "### Python dictionaries are handy for structured data"
   ]
  },
  {
   "cell_type": "code",
   "execution_count": null,
   "metadata": {
    "tags": []
   },
   "outputs": [],
   "source": [
    "a = {\"name\":\"Mary\", \"age\":23, \"sign\":\"Leo\"} # Python Dictionary"
   ]
  },
  {
   "cell_type": "code",
   "execution_count": null,
   "metadata": {
    "tags": []
   },
   "outputs": [],
   "source": [
    "a[\"name\"]"
   ]
  },
  {
   "cell_type": "code",
   "execution_count": null,
   "metadata": {
    "tags": []
   },
   "outputs": [],
   "source": [
    "a[\"job\"] = \"student\"\n",
    "a\n"
   ]
  },
  {
   "cell_type": "code",
   "execution_count": null,
   "metadata": {
    "tags": []
   },
   "outputs": [],
   "source": [
    "Class=[]\n",
    "Class.append(a)\n",
    "Class.append({\"name\":\"John\", \"age\":21, \"sign\":\"Taurus\"}) #lists don't care the content is not \"structured\" equal\n",
    "Class"
   ]
  },
  {
   "cell_type": "markdown",
   "metadata": {},
   "source": [
    "### Defining/using Python functions"
   ]
  },
  {
   "cell_type": "code",
   "execution_count": null,
   "metadata": {
    "tags": []
   },
   "outputs": [],
   "source": [
    "def func2(a, b=4, c=5):\n",
    "    if ( a > 2 and b < 10):\n",
    "        return a\n",
    "    elif c == 5:\n",
    "        return b\n",
    "    else:\n",
    "        return a + b +c"
   ]
  },
  {
   "cell_type": "code",
   "execution_count": null,
   "metadata": {
    "tags": []
   },
   "outputs": [],
   "source": [
    "func2(4,c=6, b = 11)"
   ]
  },
  {
   "cell_type": "markdown",
   "metadata": {},
   "source": [
    "# "
   ]
  },
  {
   "cell_type": "markdown",
   "metadata": {
    "tags": []
   },
   "source": [
    "# The NUMPY module - basic commands"
   ]
  },
  {
   "cell_type": "code",
   "execution_count": null,
   "metadata": {
    "tags": []
   },
   "outputs": [],
   "source": [
    "# Numpy Module\n",
    "import numpy as np"
   ]
  },
  {
   "cell_type": "code",
   "execution_count": null,
   "metadata": {
    "tags": []
   },
   "outputs": [],
   "source": [
    "a = np.array([0, 2, 4, 6, 8, 10, 12,14,16])\n",
    "a"
   ]
  },
  {
   "cell_type": "code",
   "execution_count": null,
   "metadata": {
    "tags": []
   },
   "outputs": [],
   "source": [
    "a.shape"
   ]
  },
  {
   "cell_type": "code",
   "execution_count": null,
   "metadata": {
    "tags": []
   },
   "outputs": [],
   "source": [
    "a[::-1]"
   ]
  },
  {
   "cell_type": "code",
   "execution_count": null,
   "metadata": {
    "tags": []
   },
   "outputs": [],
   "source": [
    "a=np.array([[0, 1, 2, 3], [4,5,6,7],[8, 9, 10, 11]])\n",
    "a"
   ]
  },
  {
   "cell_type": "code",
   "execution_count": null,
   "metadata": {
    "tags": []
   },
   "outputs": [],
   "source": [
    "a.shape"
   ]
  },
  {
   "cell_type": "code",
   "execution_count": null,
   "metadata": {
    "tags": []
   },
   "outputs": [],
   "source": [
    "a[:,0:2]"
   ]
  },
  {
   "cell_type": "code",
   "execution_count": null,
   "metadata": {
    "tags": []
   },
   "outputs": [],
   "source": [
    "a.T"
   ]
  },
  {
   "cell_type": "code",
   "execution_count": null,
   "metadata": {
    "tags": []
   },
   "outputs": [],
   "source": [
    "np.mean(a)"
   ]
  },
  {
   "cell_type": "code",
   "execution_count": null,
   "metadata": {
    "tags": []
   },
   "outputs": [],
   "source": [
    "a.mean(axis=0)"
   ]
  },
  {
   "cell_type": "markdown",
   "metadata": {
    "tags": []
   },
   "source": [
    "# The MATPLOTLIB module - basic plotting commands"
   ]
  },
  {
   "cell_type": "code",
   "execution_count": null,
   "metadata": {
    "tags": []
   },
   "outputs": [],
   "source": [
    "import matplotlib.pyplot as plt"
   ]
  },
  {
   "cell_type": "code",
   "execution_count": null,
   "metadata": {
    "tags": []
   },
   "outputs": [],
   "source": [
    "%matplotlib inline"
   ]
  },
  {
   "cell_type": "code",
   "execution_count": null,
   "metadata": {
    "tags": []
   },
   "outputs": [],
   "source": [
    "x=np.linspace(-5,5, 50)\n",
    "y = np.sin(x)\n",
    "y2 = y ** 2\n",
    "y3  = -x / 5.0"
   ]
  },
  {
   "cell_type": "code",
   "execution_count": null,
   "metadata": {
    "tags": []
   },
   "outputs": [],
   "source": [
    "plt.figure()\n",
    "plt.plot(x,y,label='sin')\n",
    "plt.plot(x,y2, '.', label='$\\sin^{2}$')\n",
    "plt.plot(x,y3,linewidth=3)\n",
    "plt.xlabel(\"X axis\")\n",
    "plt.ylabel(\"Y axis\")\n",
    "plt.legend()\n",
    "plt.show()"
   ]
  },
  {
   "cell_type": "code",
   "execution_count": null,
   "metadata": {
    "tags": []
   },
   "outputs": [],
   "source": [
    "fig, ax = plt.subplots(2, sharex = True)\n",
    "ax[0].plot(x,y)\n",
    "ax[1].plot(x,y2)\n",
    "ax[1].set_ylabel('y axis')\n",
    "plt.show()"
   ]
  },
  {
   "cell_type": "code",
   "execution_count": null,
   "metadata": {
    "tags": []
   },
   "outputs": [],
   "source": [
    "y,x = np.mgrid[0:20, 0:30]\n",
    "z = (x-15)**2 + (y-10) **2\n",
    "plt.figure()\n",
    "plt.pcolormesh(x,y,z)\n",
    "plt.colorbar()\n",
    "plt.show()"
   ]
  },
  {
   "cell_type": "markdown",
   "metadata": {
    "tags": []
   },
   "source": [
    "# The SCIPY module - basic scientific methods"
   ]
  },
  {
   "cell_type": "code",
   "execution_count": null,
   "metadata": {
    "tags": []
   },
   "outputs": [],
   "source": [
    "# SciPy\n",
    "from scipy.optimize import curve_fit\n",
    "def f(x,a,b,c):\n",
    "    return a * np.exp(-b * x ) +c\n",
    "n=60\n",
    "x = np.linspace(0,5, n)\n",
    "yclean = f(x, 5, 2, 0.5)\n",
    "y = yclean + 0.5 * np.random.randn(n)\n"
   ]
  },
  {
   "cell_type": "markdown",
   "metadata": {},
   "source": [
    "### Basic interpolation"
   ]
  },
  {
   "cell_type": "code",
   "execution_count": null,
   "metadata": {
    "tags": []
   },
   "outputs": [],
   "source": [
    "from scipy.interpolate import UnivariateSpline\n",
    "# Create the spline interpolant using the noisy data\n",
    "spline_interp = UnivariateSpline(x, y)\n",
    "# Plot the data and the fitted function\n",
    "plt.scatter(x, y, label='Noisy Data', color='blue')\n",
    "plt.plot(x, yclean, label='True Function', color='green', linestyle='dotted', linewidth=2)\n",
    "plt.plot(x, spline_interp(x), label='Spline Interpolation', color='orange', linewidth=2)\n",
    "plt.legend()\n",
    "plt.xlabel('x')\n",
    "plt.ylabel('y')\n",
    "plt.title('Curve Fitting with Spline Interpolation')\n",
    "plt.grid(True)\n",
    "plt.show()"
   ]
  },
  {
   "cell_type": "markdown",
   "metadata": {},
   "source": [
    "### Curve fitting"
   ]
  },
  {
   "cell_type": "code",
   "execution_count": null,
   "metadata": {
    "tags": []
   },
   "outputs": [],
   "source": [
    "popt, pcov = curve_fit (f, x, y) #provide the \"model\" function and X and Y data series\n",
    "perr = np.sqrt(np.diag(pcov))\n",
    "y_fit = f(x, *popt)\n",
    "msd = np.sum((y-y_fit) ** 2)/n"
   ]
  },
  {
   "cell_type": "code",
   "execution_count": null,
   "metadata": {
    "tags": []
   },
   "outputs": [],
   "source": [
    "print(['{} +/- {}'.format(popt[i],perr[i]) for i in range(3)])\n",
    "print(msd)"
   ]
  },
  {
   "cell_type": "code",
   "execution_count": null,
   "metadata": {
    "tags": []
   },
   "outputs": [],
   "source": [
    "plt.plot(x,y,'*',label='noisy')\n",
    "plt.plot(x,y_fit,label='fit')\n",
    "plt.plot(x,yclean,label='clean')\n",
    "plt.legend(loc='best')\n",
    "plt.show()"
   ]
  },
  {
   "cell_type": "markdown",
   "metadata": {},
   "source": [
    "### Piecewise curve fitting"
   ]
  },
  {
   "cell_type": "code",
   "execution_count": null,
   "metadata": {
    "tags": []
   },
   "outputs": [],
   "source": [
    "# Define the two functions with two coefficients each\n",
    "def func1(x, a, b):\n",
    "    return a * x + b\n",
    "\n",
    "def func2(x, c, d):\n",
    "    return c * x + d\n",
    "\n",
    "# Define the piecewise model with two functions and a single transition point\n",
    "def piecewise_function(x, a, b, c, d, transition):\n",
    "    y=func1(x,a,b)\n",
    "    y[x > transition]=func2(x[x > transition],c,d)\n",
    "    #print(transition)\n",
    "    return y\n",
    "    #return np.piecewise(x, [x <= transition, x > transition], [lambda x: func1(x, a, b), lambda x: func2(x, c, d)])\n",
    "\n",
    "# Define the piecewise model with two functions and a single transition point\n",
    "def piecewise_C2_function(x, a, b, c, d, transition):\n",
    "    y=func1(x,a,b)*(1-sigmoid(x-transition,k=12)) + func2(x,c,d)*sigmoid(x-transition,k=12)\n",
    "    return y\n",
    "\n",
    "def sigmoid(x, k=1):\n",
    "    return 1/(1+np.exp(-k*x))\n",
    "\n",
    "#######################################################    \n",
    "# Generate example data with a single transition point\n",
    "x_data = np.linspace(0, 10, 100)\n",
    "y_data = 2 * x_data + 1  # Function1 on the first segment\n",
    "transition_point = 3.5\n",
    "y_data[x_data > transition_point] = -3 * x_data[x_data > transition_point] + 30  # Function2 on the second segment\n",
    "#y_data[x_data > transition_point] = ( -3 * x_data[x_data > transition_point] + \n",
    "#                                     18.3 )\n",
    "\n",
    "# Perform the curve fit\n",
    "initial_guess = [1.0, 1.0, 1.0, 1.0, 4.5]  # Initial guess for the coefficients and transition point\n",
    "\n",
    "# Define the bounds for the coefficients and transition point during the fit\n",
    "lower_bounds = [-np.inf, -np.inf, -np.inf, -np.inf, 0.0]\n",
    "upper_bounds = [np.inf, np.inf, np.inf, np.inf, 10.0]\n",
    "popt, cov = curve_fit(piecewise_C2_function, x_data, y_data, p0=initial_guess, \n",
    "                    bounds=(lower_bounds, upper_bounds))\n",
    "\n",
    "# Extract the coefficients and transition point\n",
    "a, b, c, d, transition_point = popt\n",
    "\n",
    "# Print the results\n",
    "print(\"Coefficients for Function 1: a =\", a, \"b =\", b)\n",
    "print(\"Coefficients for Function 2: c =\", c, \"d =\", d)\n",
    "print(\"Transition point: x =\", transition_point)\n",
    "\n",
    "# Fit metrics\n",
    "y_fit = piecewise_function(x_data, *popt)\n",
    "residuals = y_data - y_fit\n",
    "degrees_of_freedom = len(x_data) - len(popt)\n",
    "chi_squared = np.sum(residuals**2)\n",
    "reduced_chi_squared = chi_squared / degrees_of_freedom\n",
    "print(\"Reduced Chi-Squared:\", reduced_chi_squared)\n",
    "\n",
    "# Plot the data and the fitted piecewise function\n",
    "plt.scatter(x_data, y_data, label='Data', color='blue')\n",
    "plt.plot(x_data, piecewise_function(x_data, a, b, c, d, transition_point), label='Piecewise Fit', color='red')\n",
    "plt.legend()\n",
    "plt.xlabel('x')\n",
    "plt.ylabel('y')\n",
    "plt.title('Piecewise Regression with Arbitrary Functions')\n",
    "plt.grid(True)\n",
    "plt.show()\n"
   ]
  },
  {
   "cell_type": "markdown",
   "metadata": {},
   "source": [
    "### Cross correlation between signals"
   ]
  },
  {
   "cell_type": "code",
   "execution_count": null,
   "metadata": {
    "tags": []
   },
   "outputs": [],
   "source": [
    "import math\n",
    "from scipy import signal\n",
    "pi=math.pi\n",
    "\n",
    "n=1000\n",
    "sfreq=1e3 #sampling frequency\n",
    "dt=1/sfreq  #sampling time\n",
    "t=np.arange(0,n)*dt\n",
    "f1=30.0  #in Hz\n",
    "y1 = 2.0*np.sin(2.0*pi*f1*t) + 0.2*np.random.randn(n)\n",
    "y2 = 2.0*np.sin(2.0*pi*f1*t+pi/4.0) + 0.2*np.random.randn(n)\n",
    "corr = signal.correlate(y1, y2,mode='same')/np.linalg.norm(y1)/np.linalg.norm(y2)\n",
    "lags = signal.correlation_lags(len(y1), len(y2),mode='same')*dt\n",
    "fig, ax = plt.subplots(2)\n",
    "ax[0].plot(t,y1,label='y1')\n",
    "ax[0].plot(t,y2,label='y2')\n",
    "ax[0].set_xlim([0,0.1])\n",
    "ax[0].legend(loc='best')\n",
    "ax[1].plot(lags,corr,label='corr')\n",
    "ax[1].set_xlim([-0.05,0.05])\n",
    "plt.show()"
   ]
  },
  {
   "cell_type": "code",
   "execution_count": null,
   "metadata": {
    "tags": []
   },
   "outputs": [],
   "source": [
    "print(np.argmax(corr))\n",
    "print(corr[np.argmax(corr)])\n",
    "print(lags[np.argmax(corr)])"
   ]
  },
  {
   "cell_type": "code",
   "execution_count": null,
   "metadata": {},
   "outputs": [],
   "source": []
  }
 ],
 "metadata": {
  "kernelspec": {
   "display_name": "Python 3 (ipykernel)",
   "language": "python",
   "name": "python3"
  },
  "language_info": {
   "codemirror_mode": {
    "name": "ipython",
    "version": 3
   },
   "file_extension": ".py",
   "mimetype": "text/x-python",
   "name": "python",
   "nbconvert_exporter": "python",
   "pygments_lexer": "ipython3",
   "version": "3.11.2"
  }
 },
 "nbformat": 4,
 "nbformat_minor": 4
}
