{
 "cells": [
  {
   "cell_type": "markdown",
   "id": "3013c984",
   "metadata": {},
   "source": [
    "## Hook's law on a Dual Spring Coil\n",
    "\n",
    "<img src=\"https://raw.githubusercontent.com/bernardocarvalho/python-basics/main/data-files/ElabWeb.png\" width=\"400\" /> <img src=\"https://raw.githubusercontent.com/bernardocarvalho/python-basics/main/data-files/20150907_094839.jpg\" width=\"400\" />"
   ]
  },
  {
   "cell_type": "code",
   "execution_count": null,
   "id": "f0c9e9e1",
   "metadata": {},
   "outputs": [],
   "source": [
    "import numpy as np\n",
    "import matplotlib.pyplot as plt\n",
    "import pandas as pd\n",
    "from pandas import read_csv\n",
    "from scipy.optimize import curve_fit\n",
    "# %matplotlib notebook\n",
    "%matplotlib inline"
   ]
  },
  {
   "cell_type": "code",
   "execution_count": null,
   "id": "dd288d8d",
   "metadata": {},
   "outputs": [],
   "source": [
    "#filename = 'data-files/dados_start.csv'\n",
    "filename = 'https://raw.githubusercontent.com/bernardocarvalho/python-basics/main/data-files/dados_start.csv'\n",
    "data = read_csv(filename, sep=';')"
   ]
  },
  {
   "cell_type": "code",
   "execution_count": null,
   "id": "34df839f",
   "metadata": {},
   "outputs": [],
   "source": [
    "# X exp. values (Displacement)\n",
    "dispRaw = data['Displ(um)'].values / 1e3\n",
    "# Y exp. values (Force)\n",
    "forceRaw = data['Force(mN)'].values / 1e3"
   ]
  },
  {
   "cell_type": "markdown",
   "id": "436082cc",
   "metadata": {},
   "source": [
    "# Plot Experimental Data"
   ]
  },
  {
   "cell_type": "code",
   "execution_count": null,
   "id": "8849b1fe",
   "metadata": {},
   "outputs": [],
   "source": [
    "plt.figure()\n",
    "plt.plot(dispRaw, forceRaw, '+', label='Exp. Data')\n",
    "#plt.annotate('example text', xy=(0.5, -0.75))\n",
    "plt.xlabel(\"Displacement(mm)\")\n",
    "plt.ylabel(\"Force(N)\")\n",
    "plt.title(\"Hook's law - constant determination of a spring\")\n",
    "plt.legend()\n",
    "plt.show()"
   ]
  },
  {
   "cell_type": "markdown",
   "id": "32b4b1ef",
   "metadata": {},
   "source": [
    "### Simple Linear Fitting "
   ]
  },
  {
   "cell_type": "code",
   "execution_count": null,
   "id": "a42d148d",
   "metadata": {},
   "outputs": [],
   "source": [
    "# Define Simple Linear Fit Function\n",
    "def fLinear(dsp, b, m):\n",
    "    fit_Force = m * dsp + b\n",
    "    return fit_Force"
   ]
  },
  {
   "cell_type": "code",
   "execution_count": null,
   "id": "8cc12dd2",
   "metadata": {},
   "outputs": [],
   "source": [
    "print(f'Total number of points = {dispRaw.size:d}')\n",
    "\"\"\"\n",
    "# Select here data points\n",
    "firstPoint = 0\n",
    "endPoint = disp.size-1\n",
    "disp  = dispRaw[firstPoint:endPoint]\n",
    "force = forceRaw[firstPoint:endPoint]\n",
    "\"\"\"\n",
    "Dmax = 19\n",
    "disp0  = dispRaw[dispRaw < Dmax]\n",
    "force0  = forceRaw[dispRaw < Dmax]\n",
    "Dmin = -19\n",
    "disp  = disp0[disp0 > Dmin]\n",
    "force  = force0[disp0 > Dmin]\n",
    "\n",
    "popt, pcov = curve_fit(fLinear, disp, force)\n",
    "perr = np.sqrt(np.diag(pcov))\n",
    "fitted_force = fLinear(disp, *popt)\n",
    "rmse = np.sqrt(\n",
    "    np.sum((force - fitted_force) ** 2) )\n",
    "print(f'B = {popt[0]:.2g} N, M = {popt[1]:.3g} N / mm')"
   ]
  },
  {
   "cell_type": "code",
   "execution_count": null,
   "id": "53f339bb",
   "metadata": {},
   "outputs": [],
   "source": [
    "plt.figure()\n",
    "plt.plot(disp, force, '+', label='Exp. Data')\n",
    "plt.plot(disp, fitted_force, label='Simple LInear fit:')\n",
    "#plt.plot(x, y2, '.', label='$\\sin^{2}$')\n",
    "#plt.plot(x, y3, linewidth=3)\n",
    "#plt.annotate('example text', xy=(0.5, -0.75))\n",
    "plt.xlabel(\"Displacement(mm)\")\n",
    "plt.ylabel(\"Force(N)\")\n",
    "plt.title(\"Hook's law - constant determination of a spring\")\n",
    "plt.legend()\n",
    "plt.show()"
   ]
  },
  {
   "cell_type": "code",
   "execution_count": null,
   "id": "cc1bb15b",
   "metadata": {},
   "outputs": [],
   "source": [
    "# Define Simple Linear Fit Function\n",
    "def fLine(x, m, b):\n",
    "    return m * x + b\n",
    "\n",
    "plt.figure()\n",
    "plt.plot(dispRaw, forceRaw, '+', label='Exp. Data')\n",
    "x=np.linspace(-20,-5,20)\n",
    "plt.plot(x, fLine(x, -0.2,-0.4), linewidth=3, label='Left Fit')\n",
    "x=np.linspace(5,20,20)\n",
    "plt.plot(x, fLine(x, -0.1,-0.4), linewidth=3, label='RightFit')\n",
    "#plt.annotate('example text', xy=(0.5, -0.75))\n",
    "plt.xlabel(\"Displacement(mm)\")\n",
    "plt.ylabel(\"Force(N)\")\n",
    "plt.title(\"Hook's law - Two Line Manual Fit\")\n",
    "plt.legend()\n",
    "plt.show()"
   ]
  },
  {
   "cell_type": "markdown",
   "id": "36ee70a0",
   "metadata": {},
   "source": [
    "### Piecewise Linear Fitting "
   ]
  },
  {
   "cell_type": "code",
   "execution_count": null,
   "id": "14ffec74",
   "metadata": {},
   "outputs": [],
   "source": [
    "# Piecewise Linear Fit Function writen with Numpy\n",
    "# See https://stackoverflow.com/questions/29382903/how-to-apply-piecewise-linear-fit-in-python\n",
    "def piecewise_linear(x, x0, y0, k1, k2):\n",
    "    conds = [x < x0, x > x0]\n",
    "    funcs = [lambda x: k1*x + y0-k1*x0, lambda x:k2*x + y0-k2*x0]\n",
    "    return np.piecewise(x, conds, funcs)"
   ]
  },
  {
   "cell_type": "code",
   "execution_count": null,
   "id": "dc456a95",
   "metadata": {},
   "outputs": [],
   "source": [
    "popt, pcov = curve_fit(piecewise_linear, disp, force) #  p0=pguess\n",
    "perr = np.sqrt(np.diag(pcov))\n",
    "fitted_force = piecewise_linear(disp, *popt)\n",
    "rmse = np.sqrt(np.sum((force - fitted_force) ** 2) )\n",
    "print(f' Intersection Point: x0 = {popt[0]:.2g} mm, y0 = {popt[1]:.2g} N ')\n",
    "print(f' Slopes: k1 = {popt[2]:.2g} mm / N, k2 = {popt[3]:.2g} mm / N ')"
   ]
  },
  {
   "cell_type": "code",
   "execution_count": null,
   "id": "3cc19725",
   "metadata": {},
   "outputs": [],
   "source": [
    "# Plot chosen data and fit results\n",
    "#pnames = ['Isat', 'Vf', 'Te']\n",
    "#punits = ['mA', 'V', 'eV']\n",
    "fig2, ax2 = plt.subplots(1)\n",
    "ax2.plot(disp, force, '+', label='data')\n",
    "ax2.plot(disp, fitted_force, label='fit:')\n",
    "ax2.legend()\n",
    "ax2.set_xlabel('Displacement / mm')\n",
    "ax2.set_ylabel('Force / N')\n",
    "plt.show(block=True)"
   ]
  }
 ],
 "metadata": {
  "kernelspec": {
   "display_name": "Python 3 (ipykernel)",
   "language": "python",
   "name": "python3"
  },
  "language_info": {
   "codemirror_mode": {
    "name": "ipython",
    "version": 3
   },
   "file_extension": ".py",
   "mimetype": "text/x-python",
   "name": "python",
   "nbconvert_exporter": "python",
   "pygments_lexer": "ipython3",
   "version": "3.11.2"
  }
 },
 "nbformat": 4,
 "nbformat_minor": 5
}
